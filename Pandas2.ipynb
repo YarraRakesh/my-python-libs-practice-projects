{
 "cells": [
  {
   "cell_type": "markdown",
   "id": "0cb06fd1-7baa-4969-a6f7-e6b73adbca73",
   "metadata": {},
   "source": [
    "#Pandas2"
   ]
  },
  {
   "cell_type": "markdown",
   "id": "d5685727-8f5c-4292-bceb-f389d21ef283",
   "metadata": {},
   "source": [
    "# Filtering & Conditional Selection in Pandas"
   ]
  },
  {
   "cell_type": "code",
   "execution_count": 2,
   "id": "c3e7b359-8b31-4de3-aa95-1bc91a967a03",
   "metadata": {},
   "outputs": [],
   "source": [
    "import pandas as pd\n",
    "\n",
    "data = {\n",
    "    'Name': ['Alice', 'Bob', 'Charlie', 'David'],\n",
    "    'Age': [24, 27, 22, 29],\n",
    "    'City': ['New York', 'Paris', 'London', 'Paris']\n",
    "}\n",
    "\n",
    "df = pd.DataFrame(data)"
   ]
  },
  {
   "cell_type": "code",
   "execution_count": 3,
   "id": "9e9f304b-aa46-403d-bf78-f179b10bc03a",
   "metadata": {},
   "outputs": [
    {
     "data": {
      "text/html": [
       "<div>\n",
       "<style scoped>\n",
       "    .dataframe tbody tr th:only-of-type {\n",
       "        vertical-align: middle;\n",
       "    }\n",
       "\n",
       "    .dataframe tbody tr th {\n",
       "        vertical-align: top;\n",
       "    }\n",
       "\n",
       "    .dataframe thead th {\n",
       "        text-align: right;\n",
       "    }\n",
       "</style>\n",
       "<table border=\"1\" class=\"dataframe\">\n",
       "  <thead>\n",
       "    <tr style=\"text-align: right;\">\n",
       "      <th></th>\n",
       "      <th>Name</th>\n",
       "      <th>Age</th>\n",
       "      <th>City</th>\n",
       "    </tr>\n",
       "  </thead>\n",
       "  <tbody>\n",
       "    <tr>\n",
       "      <th>1</th>\n",
       "      <td>Bob</td>\n",
       "      <td>27</td>\n",
       "      <td>Paris</td>\n",
       "    </tr>\n",
       "    <tr>\n",
       "      <th>3</th>\n",
       "      <td>David</td>\n",
       "      <td>29</td>\n",
       "      <td>Paris</td>\n",
       "    </tr>\n",
       "  </tbody>\n",
       "</table>\n",
       "</div>"
      ],
      "text/plain": [
       "    Name  Age   City\n",
       "1    Bob   27  Paris\n",
       "3  David   29  Paris"
      ]
     },
     "execution_count": 3,
     "metadata": {},
     "output_type": "execute_result"
    }
   ],
   "source": [
    "#Filter rows using a condition\n",
    "df[df['Age'] > 25]"
   ]
  },
  {
   "cell_type": "code",
   "execution_count": 7,
   "id": "6e7bb493-2a7a-4e6f-8386-72146449df36",
   "metadata": {},
   "outputs": [
    {
     "name": "stdout",
     "output_type": "stream",
     "text": [
      "    Name  Age   City\n",
      "1    Bob   27  Paris\n",
      "3  David   29  Paris\n",
      "\n",
      "-----\n",
      "\n",
      "      Name  Age    City\n",
      "1      Bob   27   Paris\n",
      "2  Charlie   22  London\n",
      "3    David   29   Paris\n"
     ]
    }
   ],
   "source": [
    "#Multiple Conditions (AND / OR)\n",
    "print(df[(df['Age'] > 25) & (df['City'] == 'Paris')])\n",
    "print(\"\\n-----\\n\")\n",
    "print(df[(df['City'] == 'London') | (df['City'] == 'Paris')])"
   ]
  },
  {
   "cell_type": "code",
   "execution_count": 8,
   "id": "0b1a01a9-d212-4e88-8670-29330a6f8b04",
   "metadata": {},
   "outputs": [
    {
     "data": {
      "text/html": [
       "<div>\n",
       "<style scoped>\n",
       "    .dataframe tbody tr th:only-of-type {\n",
       "        vertical-align: middle;\n",
       "    }\n",
       "\n",
       "    .dataframe tbody tr th {\n",
       "        vertical-align: top;\n",
       "    }\n",
       "\n",
       "    .dataframe thead th {\n",
       "        text-align: right;\n",
       "    }\n",
       "</style>\n",
       "<table border=\"1\" class=\"dataframe\">\n",
       "  <thead>\n",
       "    <tr style=\"text-align: right;\">\n",
       "      <th></th>\n",
       "      <th>Name</th>\n",
       "      <th>Age</th>\n",
       "      <th>City</th>\n",
       "    </tr>\n",
       "  </thead>\n",
       "  <tbody>\n",
       "    <tr>\n",
       "      <th>1</th>\n",
       "      <td>Bob</td>\n",
       "      <td>27</td>\n",
       "      <td>Paris</td>\n",
       "    </tr>\n",
       "    <tr>\n",
       "      <th>2</th>\n",
       "      <td>Charlie</td>\n",
       "      <td>22</td>\n",
       "      <td>London</td>\n",
       "    </tr>\n",
       "    <tr>\n",
       "      <th>3</th>\n",
       "      <td>David</td>\n",
       "      <td>29</td>\n",
       "      <td>Paris</td>\n",
       "    </tr>\n",
       "  </tbody>\n",
       "</table>\n",
       "</div>"
      ],
      "text/plain": [
       "      Name  Age    City\n",
       "1      Bob   27   Paris\n",
       "2  Charlie   22  London\n",
       "3    David   29   Paris"
      ]
     },
     "execution_count": 8,
     "metadata": {},
     "output_type": "execute_result"
    }
   ],
   "source": [
    "#Filter rows using isin()\n",
    "df[df['City'].isin(['Paris', 'London'])]\n",
    "#Example: Cities in a list"
   ]
  },
  {
   "cell_type": "code",
   "execution_count": 9,
   "id": "7286a379-7237-4ff0-8613-d4e387a6fde2",
   "metadata": {},
   "outputs": [
    {
     "data": {
      "text/html": [
       "<div>\n",
       "<style scoped>\n",
       "    .dataframe tbody tr th:only-of-type {\n",
       "        vertical-align: middle;\n",
       "    }\n",
       "\n",
       "    .dataframe tbody tr th {\n",
       "        vertical-align: top;\n",
       "    }\n",
       "\n",
       "    .dataframe thead th {\n",
       "        text-align: right;\n",
       "    }\n",
       "</style>\n",
       "<table border=\"1\" class=\"dataframe\">\n",
       "  <thead>\n",
       "    <tr style=\"text-align: right;\">\n",
       "      <th></th>\n",
       "      <th>Name</th>\n",
       "      <th>Age</th>\n",
       "      <th>City</th>\n",
       "    </tr>\n",
       "  </thead>\n",
       "  <tbody>\n",
       "    <tr>\n",
       "      <th>0</th>\n",
       "      <td>Alice</td>\n",
       "      <td>24</td>\n",
       "      <td>New York</td>\n",
       "    </tr>\n",
       "    <tr>\n",
       "      <th>2</th>\n",
       "      <td>Charlie</td>\n",
       "      <td>22</td>\n",
       "      <td>London</td>\n",
       "    </tr>\n",
       "  </tbody>\n",
       "</table>\n",
       "</div>"
      ],
      "text/plain": [
       "      Name  Age      City\n",
       "0    Alice   24  New York\n",
       "2  Charlie   22    London"
      ]
     },
     "execution_count": 9,
     "metadata": {},
     "output_type": "execute_result"
    }
   ],
   "source": [
    "#Filter rows using ~ (NOT operator)\n",
    "df[~(df['City'] == 'Paris')]\n",
    "#Example: People not in Paris"
   ]
  },
  {
   "cell_type": "code",
   "execution_count": 10,
   "id": "1e561c13-1219-46f7-95bb-584a9b298967",
   "metadata": {},
   "outputs": [
    {
     "name": "stdout",
     "output_type": "stream",
     "text": [
      "    Name  Age      City\n",
      "0  Alice   24  New York\n",
      "      Name  Age    City\n",
      "2  Charlie   22  London\n"
     ]
    }
   ],
   "source": [
    "#Filter using str conditions (for text)\n",
    "\n",
    "#Example: Names that start with \"A\"\n",
    "print(df[df['Name'].str.startswith('A')])\n",
    "\n",
    "#Example: Cities that contain \"on\"\n",
    "print(df[df['City'].str.contains('on')])"
   ]
  },
  {
   "cell_type": "markdown",
   "id": "aae9d6cc-aff7-4c14-bcce-0ecd52ac796c",
   "metadata": {},
   "source": [
    "# Adding & Removing Columns in Pandas"
   ]
  },
  {
   "cell_type": "code",
   "execution_count": 11,
   "id": "a85bfb61-3fe5-4268-9565-1173c8c1ace2",
   "metadata": {},
   "outputs": [],
   "source": [
    "import pandas as pd\n",
    "\n",
    "data = {\n",
    "    'Name': ['Alice', 'Bob', 'Charlie'],\n",
    "    'Age': [24, 27, 22],\n",
    "    'City': ['New York', 'Paris', 'London']\n",
    "}\n",
    "\n",
    "df = pd.DataFrame(data)"
   ]
  },
  {
   "cell_type": "code",
   "execution_count": 16,
   "id": "1ecdc214-e8eb-4e51-be74-98aa22452699",
   "metadata": {},
   "outputs": [
    {
     "name": "stdout",
     "output_type": "stream",
     "text": [
      "\n",
      " ---- \n",
      "\n",
      "\n",
      " ---- \n",
      "\n",
      "      Name  Age      City Country  Score  Age in 5 Years\n",
      "0    Alice   24  New York     USA     85              29\n",
      "1      Bob   27     Paris     USA     90              32\n",
      "2  Charlie   22    London     USA     78              27\n"
     ]
    }
   ],
   "source": [
    "# Add a New Column\n",
    "\n",
    "#Add a constant value\n",
    "df['Country'] = 'USA' #Adds a column with the value 'USA' for all rows.\n",
    "print(\"\\n ---- \\n\")\n",
    "\n",
    "#Add a column using a list\n",
    "df['Score'] = [85, 90, 78]\n",
    "print(\"\\n ---- \\n\")\n",
    "\n",
    "#Add a column using an operation on existing columns\n",
    "df['Age in 5 Years'] = df['Age'] + 5\n",
    "\n",
    "print(df)"
   ]
  },
  {
   "cell_type": "code",
   "execution_count": 18,
   "id": "48e9264b-b5ea-44d7-a66a-ce9d2f45bc2b",
   "metadata": {},
   "outputs": [
    {
     "name": "stdout",
     "output_type": "stream",
     "text": [
      "      Name  Age      City Country  Score  Age in 5 Years\n",
      "0    Alice   26  New York     USA     85              30\n",
      "1      Bob   29     Paris     USA     90              33\n",
      "2  Charlie   24    London     USA     78              28\n"
     ]
    }
   ],
   "source": [
    "# Modify an Existing Column\n",
    "df['Age'] = df['Age'] + 1\n",
    "df['Age in 5 Years'] = df['Age in 5 Years'] + 1\n",
    "#Updates all values in the 'Age' column.\n",
    "print(df)"
   ]
  },
  {
   "cell_type": "code",
   "execution_count": 20,
   "id": "14a1c92d-9d39-4918-b4ff-ee38fc42e6b9",
   "metadata": {},
   "outputs": [
    {
     "name": "stdout",
     "output_type": "stream",
     "text": [
      "      Name  Age      City Country  Age in 5 Years\n",
      "0    Alice   26  New York     USA              30\n",
      "1      Bob   29     Paris     USA              33\n",
      "2  Charlie   24    London     USA              28\n",
      "\n",
      " ---- \n",
      "\n",
      "      Name  Age      City\n",
      "0    Alice   26  New York\n",
      "1      Bob   29     Paris\n",
      "2  Charlie   24    London\n"
     ]
    }
   ],
   "source": [
    "#3. Delete/Drop a Column\n",
    "\n",
    "#Drop a single column\n",
    "df = df.drop('Score', axis=1)#axis=1 means you're dropping a column (use axis=0 for rows).\n",
    "print(df)\n",
    "\n",
    "print(\"\\n ---- \\n\")\n",
    "\n",
    "#Drop multiple columns\n",
    "df = df.drop(['Country', 'Age in 5 Years'], axis=1)\n",
    "print(df)"
   ]
  },
  {
   "cell_type": "code",
   "execution_count": 3,
   "id": "5c841941-2d4a-44c4-a5b4-cf44f75b8d05",
   "metadata": {},
   "outputs": [
    {
     "name": "stdout",
     "output_type": "stream",
     "text": [
      "Modified DataFrame:\n",
      "       Name  Age  Score\n",
      "0    Alice   20     85\n",
      "1      Bob   22     90\n",
      "2  Charlie   19     78\n",
      "\n",
      "Popped column (Score):\n",
      " 0    85\n",
      "1    90\n",
      "2    78\n",
      "Name: Score, dtype: int64\n"
     ]
    }
   ],
   "source": [
    "#Pop a Column (Remove and get it)\n",
    "import pandas as pd\n",
    "\n",
    "# Sample DataFrame\n",
    "df = pd.DataFrame({\n",
    "    'Name': ['Alice', 'Bob', 'Charlie'],\n",
    "    'Age': [20, 22, 19],\n",
    "    'Score': [85, 90, 78]\n",
    "})\n",
    "\n",
    "print(\"Modified DataFrame:\\n\", df)\n",
    "\n",
    "# Pop the 'Score' column\n",
    "score_col = df.pop('Score')\n",
    "\n",
    "print(\"\\nPopped column (Score):\\n\", score_col)\n",
    "# Removes and stores the column in a variable"
   ]
  },
  {
   "cell_type": "code",
   "execution_count": 25,
   "id": "9a481ddb-9d6a-4bc4-ae28-58e24c614acd",
   "metadata": {},
   "outputs": [
    {
     "name": "stdout",
     "output_type": "stream",
     "text": [
      "      Name Gender  Age  Score\n",
      "0    Alice      F   20     85\n",
      "1      Bob      M   22     90\n",
      "2  Charlie      M   19     78\n"
     ]
    }
   ],
   "source": [
    "#Insert Column at Specific Position\n",
    "# Sample DataFrame\n",
    "df = pd.DataFrame({\n",
    "    'Name': ['Alice', 'Bob', 'Charlie'],\n",
    "    'Age': [20, 22, 19],\n",
    "    'Score': [85, 90, 78]\n",
    "})\n",
    "df.insert(1, 'Gender', ['F', 'M', 'M'])\n",
    "print(df)\n",
    "#Inserts the column at position 1 (after 'Name')"
   ]
  },
  {
   "cell_type": "markdown",
   "id": "dbe39b82-a7a8-4337-8e50-99885fea44fd",
   "metadata": {},
   "source": [
    "#  Renaming Columns in Pandas"
   ]
  },
  {
   "cell_type": "code",
   "execution_count": 26,
   "id": "7c34e0ab-872c-42ae-a4bc-89d9b018f4fa",
   "metadata": {},
   "outputs": [],
   "source": [
    "import pandas as pd\n",
    "\n",
    "data = {\n",
    "    'Name': ['Alice', 'Bob', 'Charlie'],\n",
    "    'Age': [24, 27, 22],\n",
    "    'City': ['New York', 'Paris', 'London']\n",
    "}\n",
    "\n",
    "df = pd.DataFrame(data)"
   ]
  },
  {
   "cell_type": "code",
   "execution_count": 28,
   "id": "6d76f3e2-f527-4705-9cda-02fb53366d5c",
   "metadata": {},
   "outputs": [
    {
     "name": "stdout",
     "output_type": "stream",
     "text": [
      "  Full Name  Age      City\n",
      "0     Alice   24  New York\n",
      "1       Bob   27     Paris\n",
      "2   Charlie   22    London\n"
     ]
    }
   ],
   "source": [
    "#Rename a Single Column,Use the rename() method with a dictionary.\n",
    "df = df.rename(columns={'Name': 'Full Name'})\n",
    "print(df)"
   ]
  },
  {
   "cell_type": "code",
   "execution_count": 29,
   "id": "ed3c076b-b2a8-4374-9417-8011079b25b1",
   "metadata": {},
   "outputs": [
    {
     "name": "stdout",
     "output_type": "stream",
     "text": [
      "  Full Name  Years  Location\n",
      "0     Alice     24  New York\n",
      "1       Bob     27     Paris\n",
      "2   Charlie     22    London\n",
      "\n",
      "       Name  Age      City\n",
      "0    Alice   24  New York\n",
      "1      Bob   27     Paris\n",
      "2  Charlie   22    London\n",
      "\n",
      "            Name  Age      City\n",
      "first     Alice   24  New York\n",
      "second      Bob   27     Paris\n",
      "2       Charlie   22    London\n",
      "\n",
      "            name  age      city\n",
      "first     Alice   24  New York\n",
      "second      Bob   27     Paris\n",
      "2       Charlie   22    London\n"
     ]
    }
   ],
   "source": [
    "#Rename Multiple Columns\n",
    "df = df.rename(columns={\n",
    "    'Age': 'Years',\n",
    "    'City': 'Location'\n",
    "})\n",
    "print(df)\n",
    "\n",
    "#Rename All Columns at Once\n",
    "df.columns = ['Name', 'Age', 'City']\n",
    "print(\"\\n\", df)   #This replaces all column names at once (must match the number of columns).\n",
    "\n",
    "#Rename Rows (Index)\n",
    "df = df.rename(index={0: 'first', 1: 'second'})\n",
    "print(\"\\n\", df)  #Changes row index labels.\n",
    "\n",
    "#Rename with str functions (e.g. lowercase)\n",
    "df.columns = df.columns.str.lower()\n",
    "print(\"\\n\", df)  #Makes all column names lowercase: ['name', 'age', 'city']"
   ]
  }
 ],
 "metadata": {
  "kernelspec": {
   "display_name": "Python 3",
   "language": "python",
   "name": "python3"
  },
  "language_info": {
   "codemirror_mode": {
    "name": "ipython",
    "version": 3
   },
   "file_extension": ".py",
   "mimetype": "text/x-python",
   "name": "python",
   "nbconvert_exporter": "python",
   "pygments_lexer": "ipython3",
   "version": "3.12.1"
  }
 },
 "nbformat": 4,
 "nbformat_minor": 5
}
