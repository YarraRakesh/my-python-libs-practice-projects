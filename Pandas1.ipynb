{
 "cells": [
  {
   "cell_type": "markdown",
   "id": "15539915-e2e9-4f2f-8f6c-10f3410055b5",
   "metadata": {},
   "source": [
    "# Pandas"
   ]
  },
  {
   "cell_type": "code",
   "execution_count": 2,
   "id": "c81520a5-2d70-44d1-9d18-5f015c7be7ec",
   "metadata": {
    "scrolled": true
   },
   "outputs": [
    {
     "data": {
      "text/plain": [
       "'\\nPandas stands for Python Data Analysis Library.\\nIt provides two main data structures:\\n\\nSeries – One-dimensional labeled array (like a single column).\\n\\nDataFrame – Two-dimensional table (like an Excel sheet or SQL table).\\n\\nPandas makes it easy to:\\n\\nLoad data (from CSV, Excel, SQL, etc.)\\n\\nClean and filter data\\n\\nPerform calculations and aggregations\\n\\nVisualize basic statistics\\n'"
      ]
     },
     "execution_count": 2,
     "metadata": {},
     "output_type": "execute_result"
    }
   ],
   "source": [
    "'''\n",
    "Pandas stands for Python Data Analysis Library.\n",
    "It provides two main data structures:\n",
    "\n",
    "Series – One-dimensional labeled array (like a single column).\n",
    "\n",
    "DataFrame – Two-dimensional table (like an Excel sheet or SQL table).\n",
    "\n",
    "Pandas makes it easy to:\n",
    "\n",
    "Load data (from CSV, Excel, SQL, etc.)\n",
    "\n",
    "Clean and filter data\n",
    "\n",
    "Perform calculations and aggregations\n",
    "\n",
    "Visualize basic statistics\n",
    "'''"
   ]
  },
  {
   "cell_type": "code",
   "execution_count": 4,
   "id": "d9c0e29b-bf31-487a-9101-e26f7aa6f76e",
   "metadata": {},
   "outputs": [
    {
     "name": "stdout",
     "output_type": "stream",
     "text": [
      "Requirement already satisfied: pandas in c:\\users\\saras\\appdata\\local\\programs\\python\\python312\\lib\\site-packages (2.2.3)\n",
      "Requirement already satisfied: numpy>=1.26.0 in c:\\users\\saras\\appdata\\local\\programs\\python\\python312\\lib\\site-packages (from pandas) (2.2.5)\n",
      "Requirement already satisfied: python-dateutil>=2.8.2 in c:\\users\\saras\\appdata\\roaming\\python\\python312\\site-packages (from pandas) (2.9.0.post0)\n",
      "Requirement already satisfied: pytz>=2020.1 in c:\\users\\saras\\appdata\\local\\programs\\python\\python312\\lib\\site-packages (from pandas) (2025.2)\n",
      "Requirement already satisfied: tzdata>=2022.7 in c:\\users\\saras\\appdata\\local\\programs\\python\\python312\\lib\\site-packages (from pandas) (2025.2)\n",
      "Requirement already satisfied: six>=1.5 in c:\\users\\saras\\appdata\\roaming\\python\\python312\\site-packages (from python-dateutil>=2.8.2->pandas) (1.17.0)\n",
      "Note: you may need to restart the kernel to use updated packages.\n"
     ]
    },
    {
     "name": "stderr",
     "output_type": "stream",
     "text": [
      "\n",
      "[notice] A new release of pip is available: 23.3.2 -> 25.1.1\n",
      "[notice] To update, run: python.exe -m pip install --upgrade pip\n"
     ]
    }
   ],
   "source": [
    "pip install pandas  "
   ]
  },
  {
   "cell_type": "code",
   "execution_count": 5,
   "id": "b0ef4113-3d60-4042-bc4f-42f585c6c7c8",
   "metadata": {},
   "outputs": [],
   "source": [
    "import pandas as pd"
   ]
  },
  {
   "cell_type": "markdown",
   "id": "0e543b5e-ff9b-4406-99ac-8952f65e9521",
   "metadata": {},
   "source": [
    "# Creating Series and DataFrame"
   ]
  },
  {
   "cell_type": "code",
   "execution_count": 6,
   "id": "38d9df92-c26c-4455-bfbf-6798d1e0ba15",
   "metadata": {},
   "outputs": [
    {
     "name": "stdout",
     "output_type": "stream",
     "text": [
      "0    10\n",
      "1    20\n",
      "2    30\n",
      "3    40\n",
      "dtype: int64\n"
     ]
    }
   ],
   "source": [
    "# Series\n",
    "import pandas as pd\n",
    "\n",
    "data = [10, 20, 30, 40]\n",
    "s = pd.Series(data)\n",
    "print(s)"
   ]
  },
  {
   "cell_type": "code",
   "execution_count": 7,
   "id": "9e29e83c-71ef-4dc4-be54-2c93b88f371b",
   "metadata": {},
   "outputs": [
    {
     "name": "stdout",
     "output_type": "stream",
     "text": [
      "      Name  Age      City\n",
      "0    Alice   25  New York\n",
      "1      Bob   30     Paris\n",
      "2  Charlie   35    London\n"
     ]
    }
   ],
   "source": [
    "#DataFrame\n",
    "data = {\n",
    "    'Name': ['Alice', 'Bob', 'Charlie'],\n",
    "    'Age': [25, 30, 35],\n",
    "    'City': ['New York', 'Paris', 'London']\n",
    "}\n",
    "\n",
    "df = pd.DataFrame(data)\n",
    "print(df)"
   ]
  },
  {
   "cell_type": "code",
   "execution_count": 8,
   "id": "0499d8dc-b907-40a0-81f9-ba694d3eb061",
   "metadata": {},
   "outputs": [
    {
     "name": "stdout",
     "output_type": "stream",
     "text": [
      "a    10\n",
      "b    20\n",
      "c    30\n",
      "dtype: int64\n"
     ]
    }
   ],
   "source": [
    "#Custom Index\n",
    "s = pd.Series([10, 20, 30], index=['a', 'b', 'c'])\n",
    "print(s)"
   ]
  },
  {
   "cell_type": "code",
   "execution_count": 9,
   "id": "3594bf1d-1882-4c2e-b3df-a9083584daff",
   "metadata": {},
   "outputs": [
    {
     "name": "stdout",
     "output_type": "stream",
     "text": [
      "      Name  Age      City\n",
      "0    Alice   24  New York\n",
      "1      Bob   27     Paris\n",
      "2  Charlie   22    London\n"
     ]
    }
   ],
   "source": [
    "#Create a DataFrame from a List os Lists\n",
    "data = [\n",
    "    ['Alice', 24, 'New York'],\n",
    "    ['Bob', 27, 'Paris'],\n",
    "    ['Charlie', 22, 'London']\n",
    "]\n",
    "\n",
    "df = pd.DataFrame(data, columns=['Name', 'Age', 'City'])\n",
    "print(df)"
   ]
  },
  {
   "cell_type": "code",
   "execution_count": 10,
   "id": "12b5d886-3293-4d2b-b8cd-7573c9d47808",
   "metadata": {},
   "outputs": [
    {
     "name": "stdout",
     "output_type": "stream",
     "text": [
      "      Name  Age      City\n",
      "0    Alice   24  New York\n",
      "1      Bob   27     Paris\n",
      "2  Charlie   22    London\n"
     ]
    }
   ],
   "source": [
    "#Create a DataFrame from a List of Dictionaries\n",
    "data = [\n",
    "    {'Name': 'Alice', 'Age': 24, 'City': 'New York'},\n",
    "    {'Name': 'Bob', 'Age': 27, 'City': 'Paris'},\n",
    "    {'Name': 'Charlie', 'Age': 22, 'City': 'London'}\n",
    "]\n",
    "\n",
    "df = pd.DataFrame(data)\n",
    "print(df)"
   ]
  },
  {
   "cell_type": "code",
   "execution_count": 14,
   "id": "3db07fdc-dda7-4201-a726-9ba45b9bb2c5",
   "metadata": {},
   "outputs": [
    {
     "name": "stdout",
     "output_type": "stream",
     "text": [
      "<class 'pandas.core.frame.DataFrame'>\n",
      "RangeIndex: 3 entries, 0 to 2\n",
      "Data columns (total 3 columns):\n",
      " #   Column  Non-Null Count  Dtype \n",
      "---  ------  --------------  ----- \n",
      " 0   Name    3 non-null      object\n",
      " 1   Age     3 non-null      int64 \n",
      " 2   City    3 non-null      object\n",
      "dtypes: int64(1), object(2)\n",
      "memory usage: 204.0+ bytes\n"
     ]
    },
    {
     "data": {
      "text/html": [
       "<div>\n",
       "<style scoped>\n",
       "    .dataframe tbody tr th:only-of-type {\n",
       "        vertical-align: middle;\n",
       "    }\n",
       "\n",
       "    .dataframe tbody tr th {\n",
       "        vertical-align: top;\n",
       "    }\n",
       "\n",
       "    .dataframe thead th {\n",
       "        text-align: right;\n",
       "    }\n",
       "</style>\n",
       "<table border=\"1\" class=\"dataframe\">\n",
       "  <thead>\n",
       "    <tr style=\"text-align: right;\">\n",
       "      <th></th>\n",
       "      <th>Age</th>\n",
       "    </tr>\n",
       "  </thead>\n",
       "  <tbody>\n",
       "    <tr>\n",
       "      <th>count</th>\n",
       "      <td>3.000000</td>\n",
       "    </tr>\n",
       "    <tr>\n",
       "      <th>mean</th>\n",
       "      <td>24.333333</td>\n",
       "    </tr>\n",
       "    <tr>\n",
       "      <th>std</th>\n",
       "      <td>2.516611</td>\n",
       "    </tr>\n",
       "    <tr>\n",
       "      <th>min</th>\n",
       "      <td>22.000000</td>\n",
       "    </tr>\n",
       "    <tr>\n",
       "      <th>25%</th>\n",
       "      <td>23.000000</td>\n",
       "    </tr>\n",
       "    <tr>\n",
       "      <th>50%</th>\n",
       "      <td>24.000000</td>\n",
       "    </tr>\n",
       "    <tr>\n",
       "      <th>75%</th>\n",
       "      <td>25.500000</td>\n",
       "    </tr>\n",
       "    <tr>\n",
       "      <th>max</th>\n",
       "      <td>27.000000</td>\n",
       "    </tr>\n",
       "  </tbody>\n",
       "</table>\n",
       "</div>"
      ],
      "text/plain": [
       "             Age\n",
       "count   3.000000\n",
       "mean   24.333333\n",
       "std     2.516611\n",
       "min    22.000000\n",
       "25%    23.000000\n",
       "50%    24.000000\n",
       "75%    25.500000\n",
       "max    27.000000"
      ]
     },
     "execution_count": 14,
     "metadata": {},
     "output_type": "execute_result"
    }
   ],
   "source": [
    "df.head()       # First 5 rows\n",
    "#Purpose: Shows the first 5 rows of the DataFrame (by default).Use case: To quickly inspect the beginning of your dataset.\n",
    "df.tail()       # Last 5 rows\n",
    "#Purpose: Shows the last 5 rows of the DataFrame (by default).Use case: To check how the dataset ends — useful when data is sorted or has time-series entries.\n",
    "df.shape        # (rows, columns)\n",
    "#Purpose: Tells you the dimensions of the DataFrame — number of rows and columns.Use case: To understand how big your dataset is.\n",
    "df.info()       # Data types and null values\n",
    "#Purpose: Gives a summary of the DataFrame, including:Index range, Column names, Data types, Non-null counts (helps check missing values), Memory usageUse case: Useful for checking null values and data types before data cleaning or model building.\n",
    "df.describe()   # Summary statistics (for numeric columns.\n",
    "#Purpose: Generates summary statistics for numeric columns only.Use case: Helpful for data understanding and detecting outliers."
   ]
  },
  {
   "cell_type": "markdown",
   "id": "e9e1cc71-421d-49b0-b088-a9a7c261862b",
   "metadata": {},
   "source": [
    "# Accessing Data in Pandas DataFrame"
   ]
  },
  {
   "cell_type": "code",
   "execution_count": 15,
   "id": "03109508-1907-446b-8645-f23bd0524201",
   "metadata": {},
   "outputs": [
    {
     "name": "stdout",
     "output_type": "stream",
     "text": [
      "      Name  Age      City\n",
      "0    Alice   24  New York\n",
      "1      Bob   27     Paris\n",
      "2  Charlie   22    London\n"
     ]
    }
   ],
   "source": [
    "import pandas as pd\n",
    "\n",
    "data = {\n",
    "    'Name': ['Alice', 'Bob', 'Charlie'],\n",
    "    'Age': [24, 27, 22],\n",
    "    'City': ['New York', 'Paris', 'London']\n",
    "}\n",
    "\n",
    "df = pd.DataFrame(data)\n",
    "print(df)"
   ]
  },
  {
   "cell_type": "code",
   "execution_count": 16,
   "id": "b51778c2-f70a-4b77-8fb5-1e7aeb9ccdfb",
   "metadata": {},
   "outputs": [
    {
     "data": {
      "text/plain": [
       "0      Alice\n",
       "1        Bob\n",
       "2    Charlie\n",
       "Name: Name, dtype: object"
      ]
     },
     "execution_count": 16,
     "metadata": {},
     "output_type": "execute_result"
    }
   ],
   "source": [
    "#Single Column\n",
    "df['Name']"
   ]
  },
  {
   "cell_type": "code",
   "execution_count": 17,
   "id": "115673f1-9648-41ab-9be8-6327dd0c1c7d",
   "metadata": {},
   "outputs": [
    {
     "data": {
      "text/html": [
       "<div>\n",
       "<style scoped>\n",
       "    .dataframe tbody tr th:only-of-type {\n",
       "        vertical-align: middle;\n",
       "    }\n",
       "\n",
       "    .dataframe tbody tr th {\n",
       "        vertical-align: top;\n",
       "    }\n",
       "\n",
       "    .dataframe thead th {\n",
       "        text-align: right;\n",
       "    }\n",
       "</style>\n",
       "<table border=\"1\" class=\"dataframe\">\n",
       "  <thead>\n",
       "    <tr style=\"text-align: right;\">\n",
       "      <th></th>\n",
       "      <th>Name</th>\n",
       "      <th>City</th>\n",
       "    </tr>\n",
       "  </thead>\n",
       "  <tbody>\n",
       "    <tr>\n",
       "      <th>0</th>\n",
       "      <td>Alice</td>\n",
       "      <td>New York</td>\n",
       "    </tr>\n",
       "    <tr>\n",
       "      <th>1</th>\n",
       "      <td>Bob</td>\n",
       "      <td>Paris</td>\n",
       "    </tr>\n",
       "    <tr>\n",
       "      <th>2</th>\n",
       "      <td>Charlie</td>\n",
       "      <td>London</td>\n",
       "    </tr>\n",
       "  </tbody>\n",
       "</table>\n",
       "</div>"
      ],
      "text/plain": [
       "      Name      City\n",
       "0    Alice  New York\n",
       "1      Bob     Paris\n",
       "2  Charlie    London"
      ]
     },
     "execution_count": 17,
     "metadata": {},
     "output_type": "execute_result"
    }
   ],
   "source": [
    "#Multiple Columns\n",
    "df[['Name', 'City']]"
   ]
  },
  {
   "cell_type": "code",
   "execution_count": 21,
   "id": "29d0dbaa-95a0-44be-a9c4-eeec85e07dae",
   "metadata": {},
   "outputs": [
    {
     "name": "stdout",
     "output_type": "stream",
     "text": [
      "Name       Alice\n",
      "Age           24\n",
      "City    New York\n",
      "Name: 0, dtype: object\n",
      "\n",
      "-----\n",
      "\n",
      "    Name  Age      City\n",
      "0  Alice   24  New York\n",
      "1    Bob   27     Paris\n",
      "\n",
      "-----\n",
      "\n",
      "Name      Bob\n",
      "Age        27\n",
      "City    Paris\n",
      "Name: 1, dtype: object\n",
      "\n",
      "-----\n",
      "\n",
      "    Name  Age      City\n",
      "0  Alice   24  New York\n",
      "1    Bob   27     Paris\n"
     ]
    }
   ],
   "source": [
    "#Accessing Rows\n",
    "print(df.loc[0])  #loc[] — Label-based    Think: \"location by label\"    Index names (0, 1, 2 in our case)\n",
    "print(\"\\n-----\\n\")\n",
    "print(df.loc[0:1]) #You can get multiple rows\n",
    "print(\"\\n-----\\n\")\n",
    "print(df.iloc[1]) #iloc[] — Position-based   Think: \"index location\"    Purely uses row numbers: 0, 1, 2...\n",
    "print(\"\\n-----\\n\")\n",
    "print(df.iloc[0:2]) #You can slice like this"
   ]
  },
  {
   "cell_type": "code",
   "execution_count": 22,
   "id": "ed4cda8c-35bc-4036-888f-4c2b306de10c",
   "metadata": {},
   "outputs": [
    {
     "name": "stdout",
     "output_type": "stream",
     "text": [
      "Paris\n",
      "\n",
      "----\n",
      "\n",
      "Charlie\n"
     ]
    }
   ],
   "source": [
    "#Accessing Specific Value\n",
    "\n",
    "print(df.loc[1, 'City'])    # Using loc[row_index, column_name]\n",
    "print(\"\\n----\\n\")\n",
    "print(df.iloc[2, 0])    # Using iloc[row_position, column_position]"
   ]
  },
  {
   "cell_type": "code",
   "execution_count": 23,
   "id": "4d056b43-3954-4cda-a511-dd109a41d6b9",
   "metadata": {},
   "outputs": [
    {
     "name": "stdout",
     "output_type": "stream",
     "text": [
      "Alice New York\n",
      "Bob Paris\n",
      "Charlie London\n"
     ]
    }
   ],
   "source": [
    "#Iterate Over Rows (optional, slower for big data)\n",
    "for index, row in df.iterrows():\n",
    "    print(row['Name'], row['City'])"
   ]
  }
 ],
 "metadata": {
  "kernelspec": {
   "display_name": "Python 3 (ipykernel)",
   "language": "python",
   "name": "python3"
  },
  "language_info": {
   "codemirror_mode": {
    "name": "ipython",
    "version": 3
   },
   "file_extension": ".py",
   "mimetype": "text/x-python",
   "name": "python",
   "nbconvert_exporter": "python",
   "pygments_lexer": "ipython3",
   "version": "3.12.1"
  }
 },
 "nbformat": 4,
 "nbformat_minor": 5
}
